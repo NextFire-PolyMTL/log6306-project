{
 "cells": [
  {
   "attachments": {},
   "cell_type": "markdown",
   "metadata": {},
   "source": [
    "# log6306-project"
   ]
  },
  {
   "attachments": {},
   "cell_type": "markdown",
   "metadata": {},
   "source": [
    "## Data collection"
   ]
  },
  {
   "cell_type": "code",
   "execution_count": 1,
   "metadata": {},
   "outputs": [],
   "source": [
    "import os\n",
    "import re\n",
    "import shutil\n",
    "from pathlib import Path\n",
    "\n",
    "from pydriller import Repository"
   ]
  },
  {
   "cell_type": "code",
   "execution_count": 5,
   "metadata": {},
   "outputs": [],
   "source": [
    "PROJECT_DIR = Path('./projects/')\n",
    "COMMITS_DIR = Path('./commits/')\n",
    "\n",
    "MATCH_RE = re.compile(r'(templates\\/.*|values).yaml')\n",
    "\n",
    "shutil.rmtree(COMMITS_DIR)\n",
    "os.mkdir(COMMITS_DIR)\n",
    "\n",
    "for project in PROJECT_DIR.iterdir():\n",
    "    if project.is_dir():\n",
    "        diff_dir = COMMITS_DIR / project.name\n",
    "        os.mkdir(diff_dir)\n",
    "        for commit in Repository(project.as_posix(), only_no_merge=True).traverse_commits():\n",
    "            if 'refactor' in commit.msg and any(MATCH_RE.search(f.new_path) for f in commit.modified_files if f.new_path):\n",
    "                os.system(f'GIT_DIR={project.as_posix()}/.git '\n",
    "                          f'git show {commit.hash} > {diff_dir / commit.hash}.diff')\n"
   ]
  },
  {
   "cell_type": "code",
   "execution_count": null,
   "metadata": {},
   "outputs": [],
   "source": []
  }
 ],
 "metadata": {
  "kernelspec": {
   "display_name": ".venv",
   "language": "python",
   "name": "python3"
  },
  "language_info": {
   "codemirror_mode": {
    "name": "ipython",
    "version": 3
   },
   "file_extension": ".py",
   "mimetype": "text/x-python",
   "name": "python",
   "nbconvert_exporter": "python",
   "pygments_lexer": "ipython3",
   "version": "3.11.2"
  },
  "orig_nbformat": 4
 },
 "nbformat": 4,
 "nbformat_minor": 2
}
